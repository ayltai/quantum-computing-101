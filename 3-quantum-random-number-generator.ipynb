{
 "cells": [
  {
   "cell_type": "markdown",
   "metadata": {},
   "source": [
    "# Quantum random number generator"
   ]
  },
  {
   "cell_type": "code",
   "execution_count": null,
   "metadata": {
    "trusted": true
   },
   "outputs": [],
   "source": [
    "import os\n",
    "import math\n",
    "import qiskit"
   ]
  },
  {
   "cell_type": "markdown",
   "metadata": {},
   "source": [
    "Prepare a quantum simulator and a real quantum computer."
   ]
  },
  {
   "cell_type": "code",
   "execution_count": null,
   "metadata": {
    "trusted": true
   },
   "outputs": [],
   "source": [
    "# High-performance quantum computer simulator\n",
    "simulator = qiskit.Aer.get_backend('qasm_simulator')\n",
    "\n",
    "# Gets your IBM-Q user account\n",
    "if os.environ[\"IBMQ_TOKEN\"]:\n",
    "    qiskit.IBMQ.save_account(os.environ[\"IBMQ_TOKEN\"])\n",
    "provider = qiskit.IBMQ.load_account()\n",
    "\n",
    "# Gets all available backends (excluding simulators)\n",
    "backends = provider.backends(simulator=False)\n",
    "\n",
    "# Uses the least busy quantum backend\n",
    "backend = qiskit.providers.ibmq.least_busy(backends)"
   ]
  },
  {
   "cell_type": "markdown",
   "metadata": {},
   "source": [
    "Create empty circuits with 1 qubit and 1 classical bit for generating 1 bit of random number."
   ]
  },
  {
   "cell_type": "code",
   "execution_count": null,
   "metadata": {
    "trusted": true
   },
   "outputs": [],
   "source": [
    "interval = 100 # 0 ~ 99\n",
    "num_bits = math.floor(math.log(interval, 2)) + 1\n",
    "number   = 0\n",
    "\n",
    "for i in range(num_bits):\n",
    "    q = qiskit.QuantumRegister(1)\n",
    "    c = qiskit.ClassicalRegister(1)\n",
    "    \n",
    "    circuit = qiskit.QuantumCircuit(q, c)\n",
    "    circuit.h(q[0])\n",
    "    \n",
    "    circuit.measure(q, c)\n",
    "    \n",
    "    job     = qiskit.execute(circuit, simulator, shots=1)\n",
    "    value   = job.result().get_counts()\n",
    "    number += int(next(iter(value))) * int(math.pow(2, i))\n",
    "    \n",
    "number = round(number * interval / math.pow(2, num_bits))\n",
    "print(number)"
   ]
  }
 ],
 "metadata": {
  "kernelspec": {
   "display_name": "Python 3",
   "language": "python",
   "name": "python3"
  },
  "language_info": {
   "codemirror_mode": {
    "name": "ipython",
    "version": 3
   },
   "file_extension": ".py",
   "mimetype": "text/x-python",
   "name": "python",
   "nbconvert_exporter": "python",
   "pygments_lexer": "ipython3",
   "version": "3.7.3"
  },
  "pycharm": {
   "stem_cell": {
    "cell_type": "raw",
    "source": [],
    "metadata": {
     "collapsed": false
    }
   }
  }
 },
 "nbformat": 4,
 "nbformat_minor": 2
}