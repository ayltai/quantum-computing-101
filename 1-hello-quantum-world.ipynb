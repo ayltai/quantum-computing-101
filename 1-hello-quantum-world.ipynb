{
 "cells": [
  {
   "cell_type": "markdown",
   "metadata": {},
   "source": [
    "# Hello, Quantum World!"
   ]
  },
  {
   "cell_type": "code",
   "execution_count": null,
   "metadata": {},
   "outputs": [],
   "source": [
    "import os\n",
    "import qiskit"
   ]
  },
  {
   "cell_type": "markdown",
   "metadata": {},
   "source": [
    "First, we need to create an empty circuit with 1 qubit and 1 classical bit."
   ]
  },
  {
   "cell_type": "code",
   "execution_count": null,
   "metadata": {},
   "outputs": [],
   "source": [
    "# Prepares 1 qubit (initialized to 0 by default)\n",
    "q = qiskit.QuantumRegister(1, name=\"q\")\n",
    "\n",
    "# Prepares 1 classical bit (initialized to 0 by default)\n",
    "c = qiskit.ClassicalRegister(1, name=\"c\")\n",
    "\n",
    "# Creates a quantum circuit\n",
    "circuit = qiskit.QuantumCircuit(q, c)"
   ]
  },
  {
   "cell_type": "markdown",
   "metadata": {},
   "source": [
    "(Optional) We can visualize our circuit:"
   ]
  },
  {
   "cell_type": "code",
   "execution_count": null,
   "metadata": {},
   "outputs": [],
   "source": [
    "circuit.draw()"
   ]
  },
  {
   "cell_type": "markdown",
   "metadata": {},
   "source": [
    "We do nothing and read the value of the qubit directly."
   ]
  },
  {
   "cell_type": "code",
   "execution_count": null,
   "metadata": {},
   "outputs": [],
   "source": [
    "circuit.measure(q, c)"
   ]
  },
  {
   "cell_type": "markdown",
   "metadata": {},
   "source": [
    "Prepare a quantum simulator."
   ]
  },
  {
   "cell_type": "code",
   "execution_count": null,
   "metadata": {},
   "outputs": [],
   "source": [
    "# High-performance quantum computer simulator\n",
    "simulator = qiskit.Aer.get_backend('qasm_simulator')"
   ]
  },
  {
   "cell_type": "markdown",
   "metadata": {},
   "source": [
    "Run the circuit using a simulator."
   ]
  },
  {
   "cell_type": "code",
   "execution_count": null,
   "metadata": {},
   "outputs": [],
   "source": [
    "# Executes the quantum circuit on the simulator for 1,000 times\n",
    "job = qiskit.execute(circuit, simulator, shots=1000)\n",
    "print(job.result().get_counts())"
   ]
  },
  {
   "cell_type": "markdown",
   "metadata": {},
   "source": [
    "Prepare a real quantum computer."
   ]
  },
  {
   "cell_type": "code",
   "execution_count": null,
   "metadata": {},
   "outputs": [],
   "source": [
    "# Gets your IBM-Q user account\n",
    "if os.environ[\"IBMQ_TOKEN\"]:\n",
    "    qiskit.IBMQ.save_account(os.environ[\"IBMQ_TOKEN\"])\n",
    "provider = qiskit.IBMQ.load_account()\n",
    "\n",
    "# Gets all available backends (excluding simulators)\n",
    "backends = provider.backends(simulator=False)\n",
    "\n",
    "# Uses the least busy quantum backend\n",
    "backend = qiskit.providers.ibmq.least_busy(backends)"
   ]
  },
  {
   "cell_type": "markdown",
   "metadata": {},
   "source": [
    "Run the circuit using a quantum computer."
   ]
  },
  {
   "cell_type": "code",
   "execution_count": null,
   "metadata": {},
   "outputs": [],
   "source": [
    "print(\"Running on:\", backend.name())\n",
    "\n",
    "# Executes the quantum circuit on a quantum backend for 1,000 times\n",
    "job = qiskit.execute(circuit, backend, shots=1000)\n",
    "print(job.result().get_counts())"
   ]
  }
 ],
 "metadata": {
  "kernelspec": {
   "display_name": "Python 3",
   "language": "python",
   "name": "python3"
  },
  "language_info": {
   "codemirror_mode": {
    "name": "ipython",
    "version": 3
   },
   "file_extension": ".py",
   "mimetype": "text/x-python",
   "name": "python",
   "nbconvert_exporter": "python",
   "pygments_lexer": "ipython3",
   "version": "3.7.3"
  },
  "pycharm": {
   "stem_cell": {
    "cell_type": "raw",
    "source": [],
    "metadata": {
     "collapsed": false
    }
   }
  }
 },
 "nbformat": 4,
 "nbformat_minor": 2
}