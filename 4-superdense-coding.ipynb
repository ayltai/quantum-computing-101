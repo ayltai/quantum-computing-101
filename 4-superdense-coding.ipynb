{
  "cells": [
    {
      "cell_type": "markdown",
      "metadata": {},
      "source": "# Superdense coding"
    },
    {
      "cell_type": "code",
      "execution_count": null,
      "metadata": {
        "trusted": true
      },
      "outputs": [],
      "source": "import qiskit"
    },
    {
      "cell_type": "markdown",
      "metadata": {},
      "source": "Create an empty circuit with 2 qubits and 2 classical bits."
    },
    {
      "cell_type": "code",
      "execution_count": null,
      "metadata": {
        "trusted": true
      },
      "outputs": [],
      "source": "# Prepares 2 qubits (initialized to 0 by default)\nq = qiskit.QuantumRegister(2, name=\"q\")\n\n# Prepares 2 classical bits (initialized to 0 by default)\nc = qiskit.ClassicalRegister(2, name=\"c\")\n\n# Creates a quantum circuit\ncircuit = qiskit.QuantumCircuit(q, c)\n\n# Makes qubit 0 in superposition state\ncircuit.h(q[0])\n\n# Applies controlled-NOT gate\ncircuit.cx(q[0], q[1])"
    },
    {
      "cell_type": "markdown",
      "metadata": {},
      "source": "- If we want to send `00`, then we do nothing.\n- If we want to send `01`, then we perform a `X` transformation.\n- If we want to send `10`, then we perform a `Z` transformation.\n- If we want to send `11`, then we perform a `XZ` transformation."
    },
    {
      "cell_type": "code",
      "execution_count": null,
      "metadata": {
        "trusted": true
      },
      "outputs": [],
      "source": "circuit.x(q[0])"
    },
    {
      "cell_type": "markdown",
      "metadata": {},
      "source": "To obtain the encoded value, we re-apply the CX and H transformations in reverse order."
    },
    {
      "cell_type": "code",
      "execution_count": null,
      "metadata": {
        "trusted": true
      },
      "outputs": [],
      "source": "circuit.cx(q[0], q[1])\ncircuit.h(q[0])\n\ncircuit.measure(q, c)"
    },
    {
      "cell_type": "markdown",
      "metadata": {},
      "source": "Prepare a quantum simulator."
    },
    {
      "cell_type": "code",
      "execution_count": null,
      "metadata": {
        "trusted": true
      },
      "outputs": [],
      "source": "simulator = qiskit.Aer.get_backend('qasm_simulator')"
    },
    {
      "cell_type": "markdown",
      "metadata": {},
      "source": "Run the circuit using a simulator."
    },
    {
      "cell_type": "code",
      "execution_count": null,
      "metadata": {
        "trusted": true
      },
      "outputs": [],
      "source": "# Executes the quantum circuit on the simulator for 1,000 times\njob = qiskit.execute(circuit, simulator, shots=1000)\nprint(job.result().get_counts())"
    },
    {
      "cell_type": "markdown",
      "metadata": {},
      "source": "Prepare a real quantum computer."
    },
    {
      "cell_type": "code",
      "execution_count": null,
      "metadata": {
        "trusted": true
      },
      "outputs": [],
      "source": "# Gets your IBM-Q user account\nprovider = qiskit.IBMQ.load_account()\n\n# Gets all available backends (excluding simulators)\nbackends = provider.backends(simulator=False)\n\n# Uses the least busy quantum backend\nbackend = qiskit.providers.ibmq.least_busy(backends)"
    },
    {
      "cell_type": "markdown",
      "metadata": {},
      "source": "Run the circuit using a quantum computer."
    },
    {
      "cell_type": "code",
      "execution_count": null,
      "metadata": {
        "trusted": true
      },
      "outputs": [],
      "source": "print(\"Running on:\", backend.name())\n\n# Executes the quantum circuit on a quantum backend for 1,000 times\njob = qiskit.execute(circuit, backend, shots=1000)\nprint(job.result().get_counts())"
    }
  ],
  "metadata": {
    "kernelspec": {
      "display_name": "Python 3",
      "language": "python",
      "name": "python3"
    },
    "language_info": {
      "codemirror_mode": {
        "name": "ipython",
        "version": 3
      },
      "file_extension": ".py",
      "mimetype": "text/x-python",
      "name": "python",
      "nbconvert_exporter": "python",
      "pygments_lexer": "ipython3",
      "version": "3.7.3"
    }
  },
  "nbformat": 4,
  "nbformat_minor": 2
}