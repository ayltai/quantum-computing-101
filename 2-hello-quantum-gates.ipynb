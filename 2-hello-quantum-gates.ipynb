{
 "cells": [
  {
   "cell_type": "markdown",
   "metadata": {},
   "source": [
    "# Hello, Quantum Gates!"
   ]
  },
  {
   "cell_type": "code",
   "execution_count": null,
   "metadata": {
    "trusted": true
   },
   "outputs": [],
   "source": [
    "import os\n",
    "import qiskit"
   ]
  },
  {
   "cell_type": "markdown",
   "metadata": {},
   "source": [
    "First, we need to create an empty circuit with 1 qubit and 1 classical bit."
   ]
  },
  {
   "cell_type": "code",
   "execution_count": null,
   "metadata": {
    "trusted": true
   },
   "outputs": [],
   "source": [
    "# Prepares 2 qubits, q0 and q1 (initialized to 0 by default)\n",
    "q = qiskit.QuantumRegister(2, name=\"q\")\n",
    "\n",
    "# Prepares 2 classical bits, c0 and c1 (initialized to 0 by default)\n",
    "c = qiskit.ClassicalRegister(2, name=\"c\")\n",
    "\n",
    "# Creates a quantum circuit\n",
    "circuit = qiskit.QuantumCircuit(q, c)\n",
    "\n",
    "# Makes qubit 0 in superposition state\n",
    "circuit.h(q[0])\n",
    "\n",
    "# Applies controlled-NOT gate\n",
    "circuit.cx(q[0], q[1])"
   ]
  },
  {
   "cell_type": "markdown",
   "metadata": {},
   "source": [
    "(Optional) We can visualize our circuit:"
   ]
  },
  {
   "cell_type": "code",
   "execution_count": null,
   "metadata": {
    "trusted": true
   },
   "outputs": [],
   "source": [
    "circuit.draw()"
   ]
  },
  {
   "cell_type": "markdown",
   "metadata": {},
   "source": [
    "Read the value of the qubits."
   ]
  },
  {
   "cell_type": "code",
   "execution_count": null,
   "metadata": {
    "trusted": true
   },
   "outputs": [],
   "source": [
    "circuit.measure(q, c)"
   ]
  },
  {
   "cell_type": "markdown",
   "metadata": {},
   "source": [
    "Prepare a quantum simulator."
   ]
  },
  {
   "cell_type": "code",
   "execution_count": null,
   "metadata": {
    "trusted": true
   },
   "outputs": [],
   "source": [
    "# High-performance quantum computer simulator\n",
    "simulator = qiskit.Aer.get_backend('qasm_simulator')"
   ]
  },
  {
   "cell_type": "markdown",
   "metadata": {},
   "source": [
    "Run the circuit using a simulator."
   ]
  },
  {
   "cell_type": "code",
   "execution_count": null,
   "metadata": {
    "trusted": true
   },
   "outputs": [],
   "source": [
    "# Executes the quantum circuit on the simulator for 1,000 times\n",
    "job = qiskit.execute(circuit, simulator, shots=1000)\n",
    "print(job.result().get_counts())"
   ]
  },
  {
   "cell_type": "markdown",
   "metadata": {},
   "source": [
    "Prepare a real quantum computer."
   ]
  },
  {
   "cell_type": "code",
   "execution_count": null,
   "metadata": {
    "trusted": true
   },
   "outputs": [],
   "source": [
    "# Gets your IBM-Q user account\n",
    "if os.environ[\"IBMQ_TOKEN\"]:\n",
    "    qiskit.IBMQ.save_account(os.environ[\"IBMQ_TOKEN\"])\n",
    "provider = qiskit.IBMQ.load_account()\n",
    "\n",
    "# Gets all available backends (excluding simulators)\n",
    "backends = provider.backends(simulator=False)\n",
    "\n",
    "# Uses the least busy quantum backend\n",
    "backend = qiskit.providers.ibmq.least_busy(backends)"
   ]
  },
  {
   "cell_type": "markdown",
   "metadata": {},
   "source": "Run the circuit using a quantum computer."
  },
  {
   "cell_type": "code",
   "execution_count": null,
   "metadata": {
    "trusted": true
   },
   "outputs": [],
   "source": "print(\"Running on:\", backend.name())\n\n# Executes the quantum circuit on a quantum backend for 1,000 times\njob = qiskit.execute(circuit, backend, shots=1000)\nprint(job.result().get_counts())"
  }
 ],
 "metadata": {
  "kernelspec": {
   "display_name": "Python 3",
   "language": "python",
   "name": "python3"
  },
  "language_info": {
   "codemirror_mode": {
    "name": "ipython",
    "version": 3
   },
   "file_extension": ".py",
   "mimetype": "text/x-python",
   "name": "python",
   "nbconvert_exporter": "python",
   "pygments_lexer": "ipython3",
   "version": "3.7.3"
  },
  "pycharm": {
   "stem_cell": {
    "cell_type": "raw",
    "source": [],
    "metadata": {
     "collapsed": false
    }
   }
  }
 },
 "nbformat": 4,
 "nbformat_minor": 2
}