{
  "cells": [
    {
      "cell_type": "markdown",
      "metadata": {},
      "source": "# Quantum teleportation"
    },
    {
      "cell_type": "code",
      "execution_count": null,
      "metadata": {
        "trusted": true
      },
      "outputs": [],
      "source": "import qiskit"
    },
    {
      "cell_type": "markdown",
      "metadata": {},
      "source": "First, prepare a quantum simulator and a real quantum computer."
    },
    {
      "cell_type": "code",
      "execution_count": null,
      "metadata": {
        "trusted": true
      },
      "outputs": [],
      "source": "# High-performance quantum computer simulator\nsimulator = qiskit.Aer.get_backend('qasm_simulator')\n\n# Gets your IBM-Q user account\nprovider = qiskit.IBMQ.load_account()\n\n# Gets all available backends (excluding simulators)\nbackends = provider.backends(simulator=False)\n\n# Uses the least busy quantum backend\nbackend = qiskit.providers.ibmq.least_busy(backends)"
    },
    {
      "cell_type": "markdown",
      "metadata": {},
      "source": "We need to create an empty circuit with 1 qubit and 1 classical bit."
    },
    {
      "cell_type": "code",
      "execution_count": null,
      "metadata": {
        "trusted": true
      },
      "outputs": [],
      "source": "# Prepares 3 qubit (initialized to 0 by default)\nq = qiskit.QuantumRegister(3, \"q\")\n\n# Prepares 3 classical bit (initialized to 0 by default)\nc0 = qiskit.ClassicalRegister(1, \"c0\")\nc1 = qiskit.ClassicalRegister(1, \"c1\")\nc2 = qiskit.ClassicalRegister(1, \"c2\")\n\n# Creates a quantum circuit\ncircuit = qiskit.QuantumCircuit(q, c0, c1, c2)"
    },
    {
      "cell_type": "markdown",
      "metadata": {},
      "source": "Prepare the initial state of the qubit to be teleported."
    },
    {
      "cell_type": "code",
      "execution_count": null,
      "metadata": {
        "trusted": true
      },
      "outputs": [],
      "source": "circuit.x(q[0])\n\n# Barrier to prevent gate reordering for automatic optimization\ncircuit.barrier(q)\n\ncircuit.draw()"
    },
    {
      "cell_type": "markdown",
      "metadata": {},
      "source": "Entangle qubits 1 and 2."
    },
    {
      "cell_type": "code",
      "execution_count": null,
      "metadata": {
        "trusted": true
      },
      "outputs": [],
      "source": "circuit.h(q[1])\ncircuit.cx(q[1], q[2])\n\ncircuit.draw()"
    },
    {
      "cell_type": "markdown",
      "metadata": {},
      "source": "Measure qubits 0 and 1."
    },
    {
      "cell_type": "code",
      "execution_count": null,
      "metadata": {
        "trusted": true
      },
      "outputs": [],
      "source": "circuit.cx(q[0], q[1])\ncircuit.h(q[0])\n\ncircuit.barrier(q)\n\ncircuit.measure(q[0], c0[0])\ncircuit.measure(q[1], c1[0])\n\ncircuit.barrier(q)\ncircuit.draw()"
    },
    {
      "cell_type": "markdown",
      "metadata": {},
      "source": "If needed, perform a phase correction to qubit 2 before the measurement."
    },
    {
      "cell_type": "code",
      "execution_count": null,
      "metadata": {
        "trusted": true
      },
      "outputs": [],
      "source": "circuit.z(q[2]).c_if(c0, 1)\ncircuit.x(q[2]).c_if(c1, 1)\n\ncircuit.measure(q[2], c2[0])"
    },
    {
      "cell_type": "markdown",
      "metadata": {},
      "source": "Prepare a quantum simulator."
    },
    {
      "cell_type": "code",
      "execution_count": null,
      "metadata": {
        "trusted": true
      },
      "outputs": [],
      "source": "simulator = qiskit.Aer.get_backend('qasm_simulator')"
    },
    {
      "cell_type": "markdown",
      "metadata": {},
      "source": "Run the circuit using a simulator."
    },
    {
      "cell_type": "code",
      "execution_count": null,
      "metadata": {
        "trusted": true
      },
      "outputs": [],
      "source": "# Executes the quantum circuit on the simulator for 1,000 times\njob = qiskit.execute(circuit, simulator, shots=1000)\nprint(job.result().get_counts())"
    },
    {
      "cell_type": "markdown",
      "metadata": {},
      "source": "Prepare a real quantum computer."
    },
    {
      "cell_type": "code",
      "execution_count": null,
      "metadata": {
        "trusted": true
      },
      "outputs": [],
      "source": "# Gets your IBM-Q user account\nprovider = qiskit.IBMQ.load_account()\n\n# Gets all available backends (excluding simulators)\nbackends = provider.backends(simulator=False)\n\n# Uses the least busy quantum backend\nbackend = qiskit.providers.ibmq.least_busy(backends)"
    },
    {
      "cell_type": "markdown",
      "metadata": {},
      "source": "Run the circuit using a quantum computer."
    },
    {
      "cell_type": "code",
      "execution_count": null,
      "metadata": {
        "trusted": true
      },
      "outputs": [],
      "source": "print(\"Running on:\", backend.name())\n\n# Executes the quantum circuit on a quantum backend for 1,000 times\njob = qiskit.execute(circuit, backend, shots=1000)\nprint(job.result().get_counts())"
    }
  ],
  "metadata": {
    "kernelspec": {
      "display_name": "Python 3",
      "language": "python",
      "name": "python3"
    },
    "language_info": {
      "codemirror_mode": {
        "name": "ipython",
        "version": 3
      },
      "file_extension": ".py",
      "mimetype": "text/x-python",
      "name": "python",
      "nbconvert_exporter": "python",
      "pygments_lexer": "ipython3",
      "version": "3.7.3"
    }
  },
  "nbformat": 4,
  "nbformat_minor": 2
}